{
 "cells": [
  {
   "cell_type": "code",
   "execution_count": null,
   "id": "36231ebc",
   "metadata": {},
   "outputs": [],
   "source": [
    "import pandas as pd\n",
    "import numpy as np\n",
    "from sklearn.model_selection import train_test_split\n",
    "from sklearn.naive_bayes import GaussianNB\n",
    "from sklearn.metrics import confusion_matrix"
   ]
  },
  {
   "cell_type": "code",
   "execution_count": null,
   "id": "02716cc4",
   "metadata": {},
   "outputs": [],
   "source": [
    "Salary_train = pd.read_csv(\"SalaryData_Test.csv\")\n",
    "Salary_test = pd.read_csv(\"SalaryData_Train.csv\")\n"
   ]
  },
  {
   "cell_type": "code",
   "execution_count": null,
   "id": "c30db9df",
   "metadata": {},
   "outputs": [],
   "source": [
    "string_columns=['workclass', 'education','maritalstatus','occupation','relationship','race' ,'sex' ,'capitalgain', 'capitalloss', 'hoursperweek','native', 'Salary']"
   ]
  },
  {
   "cell_type": "code",
   "execution_count": null,
   "id": "8485a25c",
   "metadata": {},
   "outputs": [],
   "source": [
    "Salary_train"
   ]
  },
  {
   "cell_type": "markdown",
   "id": "54d14e1a",
   "metadata": {},
   "source": [
    "  # Using a Label encoder-Categorical to numercal"
   ]
  },
  {
   "cell_type": "code",
   "execution_count": null,
   "id": "8fb77052",
   "metadata": {},
   "outputs": [],
   "source": [
    "from sklearn import preprocessing\n",
    "number = preprocessing.LabelEncoder()\n",
    "for i in string_columns:\n",
    "    Salary_train[i] = number.fit_transform(Salary_train[i])\n",
    "    Salary_test[i] = number.fit_transform(Salary_test[i])\n",
    "    "
   ]
  },
  {
   "cell_type": "markdown",
   "id": "a0a72867",
   "metadata": {},
   "source": [
    "# Assign the encoded variables fro training and testing"
   ]
  },
  {
   "cell_type": "code",
   "execution_count": null,
   "id": "60d53e7f",
   "metadata": {},
   "outputs": [],
   "source": [
    "colnames =Salary_train.columns\n",
    "len(colnames[0:13])\n",
    "X_train =Salary_train[colnames[0:13]]\n",
    "Y_train = Salary_train[colnames[13]]\n",
    "X_test = Salary_test[colnames[0:13]]\n",
    "Y_test= Salary_test[colnames[13]]"
   ]
  },
  {
   "cell_type": "markdown",
   "id": "d3d1b693",
   "metadata": {},
   "source": [
    "# Gaussian Naive Bayes classifier for model fitting"
   ]
  },
  {
   "cell_type": "code",
   "execution_count": null,
   "id": "db3e2639",
   "metadata": {},
   "outputs": [],
   "source": [
    "sgnb =GaussianNB()"
   ]
  },
  {
   "cell_type": "code",
   "execution_count": null,
   "id": "31004ff7",
   "metadata": {},
   "outputs": [],
   "source": [
    "# prediction for test data\n",
    "spred_gnb = sgnb.fit(X_train,Y_train).predict(X_test)"
   ]
  },
  {
   "cell_type": "code",
   "execution_count": null,
   "id": "e363bd34",
   "metadata": {},
   "outputs": [],
   "source": [
    "cm= confusion_matrix(Y_test,spred_gnb)\n",
    "print(cm)"
   ]
  },
  {
   "cell_type": "code",
   "execution_count": null,
   "id": "3711bc9e",
   "metadata": {},
   "outputs": [],
   "source": [
    "print(\"Accuracy:\",(20952+3551)/(20952 +1701+ 3957+3551))"
   ]
  },
  {
   "cell_type": "code",
   "execution_count": null,
   "id": "57e23cd6",
   "metadata": {},
   "outputs": [],
   "source": []
  },
  {
   "cell_type": "code",
   "execution_count": null,
   "id": "421c19c0",
   "metadata": {},
   "outputs": [],
   "source": []
  }
 ],
 "metadata": {
  "kernelspec": {
   "display_name": "Python 3 (ipykernel)",
   "language": "python",
   "name": "python3"
  },
  "language_info": {
   "codemirror_mode": {
    "name": "ipython",
    "version": 3
   },
   "file_extension": ".py",
   "mimetype": "text/x-python",
   "name": "python",
   "nbconvert_exporter": "python",
   "pygments_lexer": "ipython3",
   "version": "3.9.12"
  }
 },
 "nbformat": 4,
 "nbformat_minor": 5
}
